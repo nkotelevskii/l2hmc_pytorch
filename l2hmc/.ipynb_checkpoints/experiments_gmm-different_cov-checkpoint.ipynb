{
 "cells": [
  {
   "cell_type": "code",
   "execution_count": 1,
   "metadata": {},
   "outputs": [],
   "source": [
    "%matplotlib inline\n",
    "%reload_ext autoreload\n",
    "%autoreload 2\n",
    "\n",
    "import sys\n",
    "sys.path.insert(0, '/home/nkotelevskii/github/corrected_l2hmc/l2hmc_pytorch/l2hmc/utils/')\n",
    "\n",
    "import os\n",
    "# os.environ['CUDA_VISIBLE_DEVICES'] = ''\n",
    "\n",
    "import torch\n",
    "import torch.nn as nn\n",
    "from torch.optim import Adam\n",
    "from torch.optim.lr_scheduler import ExponentialLR, StepLR\n",
    "from tqdm import tqdm\n",
    "import itertools\n",
    "\n",
    "import numpy as np\n",
    "import matplotlib as mpl\n",
    "import matplotlib.pyplot as plt\n",
    "from utils.distributions_pt import GMM #random_tilted_gaussian, Gaussian, GMM, RoughWell\n",
    "from utils.notebook_utils_pt import get_hmc_samples, plot_gaussian_contours\n",
    "\n",
    "import seaborn as sns\n",
    "sns.set_palette(\"muted\")"
   ]
  },
  {
   "cell_type": "code",
   "execution_count": 2,
   "metadata": {},
   "outputs": [
    {
     "data": {
      "text/plain": [
       "device(type='cuda', index=0)"
      ]
     },
     "execution_count": 2,
     "metadata": {},
     "output_type": "execute_result"
    }
   ],
   "source": [
    "device = torch.device('cuda:0' if torch.cuda.is_available() else 'cpu')\n",
    "device"
   ]
  },
  {
   "cell_type": "code",
   "execution_count": 18,
   "metadata": {},
   "outputs": [],
   "source": [
    "from func_utils_pt import acl_spectrum, ESS"
   ]
  },
  {
   "cell_type": "code",
   "execution_count": 3,
   "metadata": {},
   "outputs": [],
   "source": [
    "from distributions_pt import Gaussian\n",
    "from layers_pt import Net\n",
    "from dynamics_pt import Dynamics\n",
    "from sampler_pt import propose\n",
    "from notebook_utils_pt import get_hmc_samples\n",
    "import random\n",
    "\n",
    "from IPython.core.debugger import set_trace"
   ]
  },
  {
   "cell_type": "code",
   "execution_count": 4,
   "metadata": {},
   "outputs": [],
   "source": [
    "# torch.backends.cudnn.deterministic = True\n",
    "# torch.backends.cudnn.benchmark = False\n",
    "# np.random.seed(0)   \n",
    "# random.seed(0)"
   ]
  },
  {
   "cell_type": "code",
   "execution_count": null,
   "metadata": {},
   "outputs": [],
   "source": []
  },
  {
   "cell_type": "code",
   "execution_count": 5,
   "metadata": {},
   "outputs": [],
   "source": [
    "# Color definition for plots\n",
    "c_l2hmc, c_hmc1, c_hmc2, c_hmc3 = 'blue', 'orange', 'green', 'red'\n",
    "c_true, c_contour = 'purple', '0.75'"
   ]
  },
  {
   "cell_type": "markdown",
   "metadata": {},
   "source": [
    "---\n",
    "# Network architecture"
   ]
  },
  {
   "cell_type": "code",
   "execution_count": 6,
   "metadata": {},
   "outputs": [],
   "source": [
    "network = Net"
   ]
  },
  {
   "cell_type": "markdown",
   "metadata": {},
   "source": [
    "\n",
    "---\n",
    "# Mixture of Gaussians (MoG)\n",
    "\n",
    "## Defining the distribution\n",
    "\n",
    "We define our energy function. It is a Gaussian distribution with zero mean. The covariance is a $\\pi/4$ rotation of the eigenvalues $[100, 10^{-1}]$. We set up our dynamics which take as input our energy function, the number of time step of our operator, the (learnable) step-size and our architecture."
   ]
  },
  {
   "cell_type": "code",
   "execution_count": 7,
   "metadata": {},
   "outputs": [],
   "source": [
    "x_dim = 2\n",
    "mu_1 = np.array([-2., 0.])\n",
    "mu_2 = np.array([2., 0.])\n",
    "mus = np.array([mu_1, mu_2])\n",
    "cov_1 = 0.1 * np.eye(2)\n",
    "cov_2 = 0.1 * np.eye(2)\n",
    "covs = np.array([cov_1, cov_2])\n",
    "pis = np.array([0.5, 0.5])\n",
    "dist = GMM(mus, covs, pis)"
   ]
  },
  {
   "cell_type": "code",
   "execution_count": 8,
   "metadata": {},
   "outputs": [
    {
     "data": {
      "image/png": "[encoded data removed]",
      "text/plain": [
       "<Figure size 432x288 with 1 Axes>"
      ]
     },
     "metadata": {
      "needs_background": "light"
     },
     "output_type": "display_data"
    }
   ],
   "source": [
    "S = dist.get_samples(500)\n",
    "fig = plt.figure()\n",
    "plt.title('Isotropic Gaussian Mixture Model (GMM)')\n",
    "# plot_gaussian_contours(mus, covs, colors=[c_contour, c_contour], x_lims=[-3,3], y_lims=[-2,2])\n",
    "plt.plot(S[:, 0], S[:, 1], 'o', alpha=0.6, color=c_true)\n",
    "plt.axis('equal')\n",
    "plt.show()\n",
    "# fig.savefig('iso_gmm_exact.png', dpi=200)"
   ]
  },
  {
   "cell_type": "code",
   "execution_count": null,
   "metadata": {},
   "outputs": [],
   "source": []
  },
  {
   "cell_type": "markdown",
   "metadata": {},
   "source": [
    "---\n",
    "## Training"
   ]
  },
  {
   "cell_type": "code",
   "execution_count": 9,
   "metadata": {},
   "outputs": [],
   "source": [
    "dynamics = Dynamics(x_dim, dist.get_energy_function(), T=10, eps=0.1, net_factory=network, use_temperature=True).to(device)"
   ]
  },
  {
   "cell_type": "code",
   "execution_count": 10,
   "metadata": {},
   "outputs": [],
   "source": [
    "n_steps = 5000\n",
    "n_samples = 200"
   ]
  },
  {
   "cell_type": "code",
   "execution_count": 11,
   "metadata": {},
   "outputs": [
    {
     "name": "stderr",
     "output_type": "stream",
     "text": [
      "  0%|          | 1/5000 [00:00<30:56,  2.69it/s]"
     ]
    },
    {
     "name": "stdout",
     "output_type": "stream",
     "text": [
      "Step: 0 / 5000, Loss: 1.36e+02, Acceptance sample: 0.40, LR: 0.00100\n"
     ]
    },
    {
     "name": "stderr",
     "output_type": "stream",
     "text": [
      "  2%|▏         | 101/5000 [00:38<31:00,  2.63it/s]"
     ]
    },
    {
     "name": "stdout",
     "output_type": "stream",
     "text": [
      "Step: 100 / 5000, Loss: -7.10e+00, Acceptance sample: 0.60, LR: 0.00100\n"
     ]
    },
    {
     "name": "stderr",
     "output_type": "stream",
     "text": [
      "  4%|▍         | 201/5000 [01:16<29:57,  2.67it/s]"
     ]
    },
    {
     "name": "stdout",
     "output_type": "stream",
     "text": [
      "Step: 200 / 5000, Loss: -1.48e+01, Acceptance sample: 0.60, LR: 0.00100\n"
     ]
    },
    {
     "name": "stderr",
     "output_type": "stream",
     "text": [
      "  6%|▌         | 301/5000 [01:54<30:02,  2.61it/s]"
     ]
    },
    {
     "name": "stdout",
     "output_type": "stream",
     "text": [
      "Step: 300 / 5000, Loss: -2.71e+01, Acceptance sample: 0.55, LR: 0.00100\n"
     ]
    },
    {
     "name": "stderr",
     "output_type": "stream",
     "text": [
      "  8%|▊         | 401/5000 [02:32<29:19,  2.61it/s]"
     ]
    },
    {
     "name": "stdout",
     "output_type": "stream",
     "text": [
      "Step: 400 / 5000, Loss: -6.73e+01, Acceptance sample: 0.56, LR: 0.00100\n"
     ]
    },
    {
     "name": "stderr",
     "output_type": "stream",
     "text": [
      " 10%|█         | 501/5000 [03:10<28:10,  2.66it/s]"
     ]
    },
    {
     "name": "stdout",
     "output_type": "stream",
     "text": [
      "Step: 500 / 5000, Loss: -1.35e+02, Acceptance sample: 0.63, LR: 0.00100\n"
     ]
    },
    {
     "name": "stderr",
     "output_type": "stream",
     "text": [
      " 12%|█▏        | 601/5000 [03:48<27:27,  2.67it/s]"
     ]
    },
    {
     "name": "stdout",
     "output_type": "stream",
     "text": [
      "Step: 600 / 5000, Loss: -1.63e+02, Acceptance sample: 0.59, LR: 0.00100\n"
     ]
    },
    {
     "name": "stderr",
     "output_type": "stream",
     "text": [
      " 14%|█▍        | 701/5000 [04:26<27:17,  2.63it/s]"
     ]
    },
    {
     "name": "stdout",
     "output_type": "stream",
     "text": [
      "Step: 700 / 5000, Loss: -1.81e+02, Acceptance sample: 0.65, LR: 0.00100\n"
     ]
    },
    {
     "name": "stderr",
     "output_type": "stream",
     "text": [
      " 16%|█▌        | 801/5000 [05:05<27:02,  2.59it/s]"
     ]
    },
    {
     "name": "stdout",
     "output_type": "stream",
     "text": [
      "Step: 800 / 5000, Loss: -1.95e+02, Acceptance sample: 0.59, LR: 0.00100\n"
     ]
    },
    {
     "name": "stderr",
     "output_type": "stream",
     "text": [
      " 18%|█▊        | 901/5000 [05:43<26:16,  2.60it/s]"
     ]
    },
    {
     "name": "stdout",
     "output_type": "stream",
     "text": [
      "Step: 900 / 5000, Loss: -2.30e+02, Acceptance sample: 0.70, LR: 0.00100\n"
     ]
    },
    {
     "name": "stderr",
     "output_type": "stream",
     "text": [
      " 20%|██        | 1001/5000 [06:21<25:34,  2.61it/s]"
     ]
    },
    {
     "name": "stdout",
     "output_type": "stream",
     "text": [
      "Step: 1000 / 5000, Loss: -2.16e+02, Acceptance sample: 0.68, LR: 0.00096\n"
     ]
    },
    {
     "name": "stderr",
     "output_type": "stream",
     "text": [
      " 22%|██▏       | 1101/5000 [07:00<25:00,  2.60it/s]"
     ]
    },
    {
     "name": "stdout",
     "output_type": "stream",
     "text": [
      "Step: 1100 / 5000, Loss: -1.96e+02, Acceptance sample: 0.68, LR: 0.00096\n"
     ]
    },
    {
     "name": "stderr",
     "output_type": "stream",
     "text": [
      " 24%|██▍       | 1201/5000 [07:38<24:38,  2.57it/s]"
     ]
    },
    {
     "name": "stdout",
     "output_type": "stream",
     "text": [
      "Step: 1200 / 5000, Loss: -2.38e+02, Acceptance sample: 0.74, LR: 0.00096\n"
     ]
    },
    {
     "name": "stderr",
     "output_type": "stream",
     "text": [
      " 26%|██▌       | 1301/5000 [08:17<23:55,  2.58it/s]"
     ]
    },
    {
     "name": "stdout",
     "output_type": "stream",
     "text": [
      "Step: 1300 / 5000, Loss: -2.10e+02, Acceptance sample: 0.73, LR: 0.00096\n"
     ]
    },
    {
     "name": "stderr",
     "output_type": "stream",
     "text": [
      " 28%|██▊       | 1401/5000 [08:56<23:00,  2.61it/s]"
     ]
    },
    {
     "name": "stdout",
     "output_type": "stream",
     "text": [
      "Step: 1400 / 5000, Loss: -2.43e+02, Acceptance sample: 0.76, LR: 0.00096\n"
     ]
    },
    {
     "name": "stderr",
     "output_type": "stream",
     "text": [
      " 30%|███       | 1501/5000 [09:34<22:44,  2.56it/s]"
     ]
    },
    {
     "name": "stdout",
     "output_type": "stream",
     "text": [
      "Step: 1500 / 5000, Loss: -2.43e+02, Acceptance sample: 0.76, LR: 0.00096\n"
     ]
    },
    {
     "name": "stderr",
     "output_type": "stream",
     "text": [
      " 32%|███▏      | 1601/5000 [10:12<21:16,  2.66it/s]"
     ]
    },
    {
     "name": "stdout",
     "output_type": "stream",
     "text": [
      "Step: 1600 / 5000, Loss: -2.35e+02, Acceptance sample: 0.79, LR: 0.00096\n"
     ]
    },
    {
     "name": "stderr",
     "output_type": "stream",
     "text": [
      " 34%|███▍      | 1701/5000 [10:50<21:06,  2.61it/s]"
     ]
    },
    {
     "name": "stdout",
     "output_type": "stream",
     "text": [
      "Step: 1700 / 5000, Loss: -2.20e+02, Acceptance sample: 0.78, LR: 0.00096\n"
     ]
    },
    {
     "name": "stderr",
     "output_type": "stream",
     "text": [
      " 36%|███▌      | 1801/5000 [11:29<20:27,  2.61it/s]"
     ]
    },
    {
     "name": "stdout",
     "output_type": "stream",
     "text": [
      "Step: 1800 / 5000, Loss: -2.43e+02, Acceptance sample: 0.82, LR: 0.00096\n"
     ]
    },
    {
     "name": "stderr",
     "output_type": "stream",
     "text": [
      " 38%|███▊      | 1901/5000 [12:07<19:37,  2.63it/s]"
     ]
    },
    {
     "name": "stdout",
     "output_type": "stream",
     "text": [
      "Step: 1900 / 5000, Loss: -2.58e+02, Acceptance sample: 0.85, LR: 0.00096\n"
     ]
    },
    {
     "name": "stderr",
     "output_type": "stream",
     "text": [
      " 40%|████      | 2001/5000 [12:45<19:07,  2.61it/s]"
     ]
    },
    {
     "name": "stdout",
     "output_type": "stream",
     "text": [
      "Step: 2000 / 5000, Loss: -2.55e+02, Acceptance sample: 0.83, LR: 0.00092\n"
     ]
    },
    {
     "name": "stderr",
     "output_type": "stream",
     "text": [
      " 42%|████▏     | 2101/5000 [13:24<18:34,  2.60it/s]"
     ]
    },
    {
     "name": "stdout",
     "output_type": "stream",
     "text": [
      "Step: 2100 / 5000, Loss: -2.32e+02, Acceptance sample: 0.84, LR: 0.00092\n"
     ]
    },
    {
     "name": "stderr",
     "output_type": "stream",
     "text": [
      " 44%|████▍     | 2201/5000 [14:01<17:30,  2.67it/s]"
     ]
    },
    {
     "name": "stdout",
     "output_type": "stream",
     "text": [
      "Step: 2200 / 5000, Loss: -2.41e+02, Acceptance sample: 0.81, LR: 0.00092\n"
     ]
    },
    {
     "name": "stderr",
     "output_type": "stream",
     "text": [
      " 46%|████▌     | 2301/5000 [14:39<17:05,  2.63it/s]"
     ]
    },
    {
     "name": "stdout",
     "output_type": "stream",
     "text": [
      "Step: 2300 / 5000, Loss: -2.40e+02, Acceptance sample: 0.83, LR: 0.00092\n"
     ]
    },
    {
     "name": "stderr",
     "output_type": "stream",
     "text": [
      " 48%|████▊     | 2401/5000 [15:17<16:17,  2.66it/s]"
     ]
    },
    {
     "name": "stdout",
     "output_type": "stream",
     "text": [
      "Step: 2400 / 5000, Loss: -2.54e+02, Acceptance sample: 0.85, LR: 0.00092\n"
     ]
    },
    {
     "name": "stderr",
     "output_type": "stream",
     "text": [
      " 50%|█████     | 2501/5000 [15:55<16:05,  2.59it/s]"
     ]
    },
    {
     "name": "stdout",
     "output_type": "stream",
     "text": [
      "Step: 2500 / 5000, Loss: -2.40e+02, Acceptance sample: 0.83, LR: 0.00092\n"
     ]
    },
    {
     "name": "stderr",
     "output_type": "stream",
     "text": [
      " 52%|█████▏    | 2601/5000 [16:33<15:09,  2.64it/s]"
     ]
    },
    {
     "name": "stdout",
     "output_type": "stream",
     "text": [
      "Step: 2600 / 5000, Loss: -2.57e+02, Acceptance sample: 0.86, LR: 0.00092\n"
     ]
    },
    {
     "name": "stderr",
     "output_type": "stream",
     "text": [
      " 54%|█████▍    | 2701/5000 [17:12<14:42,  2.61it/s]"
     ]
    },
    {
     "name": "stdout",
     "output_type": "stream",
     "text": [
      "Step: 2700 / 5000, Loss: -2.47e+02, Acceptance sample: 0.84, LR: 0.00092\n"
     ]
    },
    {
     "name": "stderr",
     "output_type": "stream",
     "text": [
      " 56%|█████▌    | 2801/5000 [17:50<14:04,  2.60it/s]"
     ]
    },
    {
     "name": "stdout",
     "output_type": "stream",
     "text": [
      "Step: 2800 / 5000, Loss: -2.55e+02, Acceptance sample: 0.86, LR: 0.00092\n"
     ]
    },
    {
     "name": "stderr",
     "output_type": "stream",
     "text": [
      " 58%|█████▊    | 2901/5000 [18:28<13:19,  2.63it/s]"
     ]
    },
    {
     "name": "stdout",
     "output_type": "stream",
     "text": [
      "Step: 2900 / 5000, Loss: -2.60e+02, Acceptance sample: 0.87, LR: 0.00092\n"
     ]
    },
    {
     "name": "stderr",
     "output_type": "stream",
     "text": [
      " 60%|██████    | 3001/5000 [19:06<12:37,  2.64it/s]"
     ]
    },
    {
     "name": "stdout",
     "output_type": "stream",
     "text": [
      "Step: 3000 / 5000, Loss: -2.40e+02, Acceptance sample: 0.88, LR: 0.00088\n"
     ]
    },
    {
     "name": "stderr",
     "output_type": "stream",
     "text": [
      " 62%|██████▏   | 3101/5000 [19:45<11:51,  2.67it/s]"
     ]
    },
    {
     "name": "stdout",
     "output_type": "stream",
     "text": [
      "Step: 3100 / 5000, Loss: -2.42e+02, Acceptance sample: 0.86, LR: 0.00088\n"
     ]
    },
    {
     "name": "stderr",
     "output_type": "stream",
     "text": [
      " 64%|██████▍   | 3201/5000 [20:22<11:16,  2.66it/s]"
     ]
    },
    {
     "name": "stdout",
     "output_type": "stream",
     "text": [
      "Step: 3200 / 5000, Loss: -2.35e+02, Acceptance sample: 0.84, LR: 0.00088\n"
     ]
    },
    {
     "name": "stderr",
     "output_type": "stream",
     "text": [
      " 66%|██████▌   | 3301/5000 [21:00<10:39,  2.66it/s]"
     ]
    },
    {
     "name": "stdout",
     "output_type": "stream",
     "text": [
      "Step: 3300 / 5000, Loss: -2.42e+02, Acceptance sample: 0.88, LR: 0.00088\n"
     ]
    },
    {
     "name": "stderr",
     "output_type": "stream",
     "text": [
      " 68%|██████▊   | 3401/5000 [21:37<10:05,  2.64it/s]"
     ]
    },
    {
     "name": "stdout",
     "output_type": "stream",
     "text": [
      "Step: 3400 / 5000, Loss: -2.36e+02, Acceptance sample: 0.84, LR: 0.00088\n"
     ]
    },
    {
     "name": "stderr",
     "output_type": "stream",
     "text": [
      " 70%|███████   | 3501/5000 [22:15<09:29,  2.63it/s]"
     ]
    },
    {
     "name": "stdout",
     "output_type": "stream",
     "text": [
      "Step: 3500 / 5000, Loss: -2.34e+02, Acceptance sample: 0.89, LR: 0.00088\n"
     ]
    },
    {
     "name": "stderr",
     "output_type": "stream",
     "text": [
      " 72%|███████▏  | 3601/5000 [22:53<08:54,  2.62it/s]"
     ]
    },
    {
     "name": "stdout",
     "output_type": "stream",
     "text": [
      "Step: 3600 / 5000, Loss: -2.14e+02, Acceptance sample: 0.86, LR: 0.00088\n"
     ]
    },
    {
     "name": "stderr",
     "output_type": "stream",
     "text": [
      " 74%|███████▍  | 3701/5000 [23:32<08:24,  2.58it/s]"
     ]
    },
    {
     "name": "stdout",
     "output_type": "stream",
     "text": [
      "Step: 3700 / 5000, Loss: -2.22e+02, Acceptance sample: 0.85, LR: 0.00088\n"
     ]
    },
    {
     "name": "stderr",
     "output_type": "stream",
     "text": [
      " 76%|███████▌  | 3801/5000 [24:10<07:39,  2.61it/s]"
     ]
    },
    {
     "name": "stdout",
     "output_type": "stream",
     "text": [
      "Step: 3800 / 5000, Loss: -2.34e+02, Acceptance sample: 0.86, LR: 0.00088\n"
     ]
    },
    {
     "name": "stderr",
     "output_type": "stream",
     "text": [
      " 78%|███████▊  | 3901/5000 [24:48<06:56,  2.64it/s]"
     ]
    },
    {
     "name": "stdout",
     "output_type": "stream",
     "text": [
      "Step: 3900 / 5000, Loss: -2.34e+02, Acceptance sample: 0.88, LR: 0.00088\n"
     ]
    },
    {
     "name": "stderr",
     "output_type": "stream",
     "text": [
      " 80%|████████  | 4001/5000 [25:26<06:11,  2.69it/s]"
     ]
    },
    {
     "name": "stdout",
     "output_type": "stream",
     "text": [
      "Step: 4000 / 5000, Loss: -2.23e+02, Acceptance sample: 0.85, LR: 0.00085\n"
     ]
    },
    {
     "name": "stderr",
     "output_type": "stream",
     "text": [
      " 82%|████████▏ | 4101/5000 [26:03<05:43,  2.62it/s]"
     ]
    },
    {
     "name": "stdout",
     "output_type": "stream",
     "text": [
      "Step: 4100 / 5000, Loss: -2.14e+02, Acceptance sample: 0.84, LR: 0.00085\n"
     ]
    },
    {
     "name": "stderr",
     "output_type": "stream",
     "text": [
      " 84%|████████▍ | 4201/5000 [26:40<05:09,  2.58it/s]"
     ]
    },
    {
     "name": "stdout",
     "output_type": "stream",
     "text": [
      "Step: 4200 / 5000, Loss: -2.28e+02, Acceptance sample: 0.89, LR: 0.00085\n"
     ]
    },
    {
     "name": "stderr",
     "output_type": "stream",
     "text": [
      " 86%|████████▌ | 4301/5000 [27:19<04:25,  2.63it/s]"
     ]
    },
    {
     "name": "stdout",
     "output_type": "stream",
     "text": [
      "Step: 4300 / 5000, Loss: -2.10e+02, Acceptance sample: 0.85, LR: 0.00085\n"
     ]
    },
    {
     "name": "stderr",
     "output_type": "stream",
     "text": [
      " 88%|████████▊ | 4401/5000 [27:57<03:48,  2.63it/s]"
     ]
    },
    {
     "name": "stdout",
     "output_type": "stream",
     "text": [
      "Step: 4400 / 5000, Loss: -2.14e+02, Acceptance sample: 0.82, LR: 0.00085\n"
     ]
    },
    {
     "name": "stderr",
     "output_type": "stream",
     "text": [
      " 90%|█████████ | 4501/5000 [28:35<03:04,  2.70it/s]"
     ]
    },
    {
     "name": "stdout",
     "output_type": "stream",
     "text": [
      "Step: 4500 / 5000, Loss: -1.95e+02, Acceptance sample: 0.72, LR: 0.00085\n"
     ]
    },
    {
     "name": "stderr",
     "output_type": "stream",
     "text": [
      " 92%|█████████▏| 4601/5000 [29:12<02:29,  2.67it/s]"
     ]
    },
    {
     "name": "stdout",
     "output_type": "stream",
     "text": [
      "Step: 4600 / 5000, Loss: -1.87e+02, Acceptance sample: 0.69, LR: 0.00085\n"
     ]
    },
    {
     "name": "stderr",
     "output_type": "stream",
     "text": [
      " 94%|█████████▍| 4701/5000 [29:50<01:51,  2.68it/s]"
     ]
    },
    {
     "name": "stdout",
     "output_type": "stream",
     "text": [
      "Step: 4700 / 5000, Loss: -1.44e+02, Acceptance sample: 0.51, LR: 0.00085\n"
     ]
    },
    {
     "name": "stderr",
     "output_type": "stream",
     "text": [
      " 96%|█████████▌| 4801/5000 [30:27<01:15,  2.64it/s]"
     ]
    },
    {
     "name": "stdout",
     "output_type": "stream",
     "text": [
      "Step: 4800 / 5000, Loss: -1.50e+02, Acceptance sample: 0.54, LR: 0.00085\n"
     ]
    },
    {
     "name": "stderr",
     "output_type": "stream",
     "text": [
      " 98%|█████████▊| 4901/5000 [31:04<00:37,  2.67it/s]"
     ]
    },
    {
     "name": "stdout",
     "output_type": "stream",
     "text": [
      "Step: 4900 / 5000, Loss: -9.84e+01, Acceptance sample: 0.45, LR: 0.00085\n"
     ]
    },
    {
     "name": "stderr",
     "output_type": "stream",
     "text": [
      "100%|██████████| 5000/5000 [31:41<00:00,  2.65it/s]\n"
     ]
    }
   ],
   "source": [
    "optim = Adam(dynamics.parameters())\n",
    "scheduler = StepLR(optim, step_size=1000, gamma=0.96)\n",
    "scale = torch.tensor(0.1, device=device)\n",
    "\n",
    "def criterion(v1, v2):\n",
    "    return scale * (torch.mean(1.0 / v1) + torch.mean(1.0 / v2)) + (-torch.mean(v1) - torch.mean(v2)) / scale\n",
    "\n",
    "# with torch.autograd.detect_anomaly():\n",
    "for t in tqdm(range(n_steps)):\n",
    "    tmp = 9.0 * (1 - t / float(n_steps)) + 1\n",
    "    if(t==0):\n",
    "        x = torch.randn(n_samples, x_dim, dtype=torch.float32, device=device)\n",
    "    else:\n",
    "        x = output[0].data #.to(device)\n",
    "\n",
    "    z = torch.randn_like(x, device=device)\n",
    "\n",
    "    optim.zero_grad()\n",
    "    Lx, _, px, output = propose(x, dynamics, do_mh_step=True, temperature=tmp)\n",
    "    Lz, _, pz, _ = propose(z, dynamics, do_mh_step=False, temperature=tmp)\n",
    "\n",
    "    v1 = (torch.sum((x - Lx)**2, dim=1) * px) + torch.tensor(1e-4, device=device)\n",
    "    v2 = (torch.sum((z - Lz)**2, dim=1) * pz) + torch.tensor(1e-4, device=device)\n",
    "\n",
    "    loss = criterion(v1, v2)\n",
    "    \n",
    "#     with torch.autograd.detect_anomaly():\n",
    "#     set_trace()\n",
    "    loss.backward()\n",
    "    optim.step()\n",
    "    \n",
    "    if t % 100 == 0:\n",
    "        current_lr = None\n",
    "        for param_group in optim.param_groups:\n",
    "            current_lr = param_group['lr']\n",
    "        print ('Step: %d / %d, Loss: %.2e, Acceptance sample: %.2f, LR: %.5f' % (t, n_steps, loss.item(), np.mean(px.cpu().detach().numpy()), current_lr))\n",
    "    scheduler.step()\n",
    "    optim.zero_grad()"
   ]
  },
  {
   "cell_type": "code",
   "execution_count": null,
   "metadata": {},
   "outputs": [],
   "source": []
  },
  {
   "cell_type": "code",
   "execution_count": 12,
   "metadata": {},
   "outputs": [],
   "source": [
    "length_of_chains = 2000"
   ]
  },
  {
   "cell_type": "code",
   "execution_count": 13,
   "metadata": {},
   "outputs": [
    {
     "name": "stderr",
     "output_type": "stream",
     "text": [
      "100%|██████████| 2000/2000 [02:31<00:00, 13.11it/s]\n"
     ]
    }
   ],
   "source": [
    "samples = torch.tensor(dist.get_samples(n=n_samples), dtype=torch.float32, device=device)\n",
    "final_samples = []\n",
    "\n",
    "samples_ = samples\n",
    "with torch.no_grad():\n",
    "    for t in tqdm(range(length_of_chains)):\n",
    "        final_samples.append(samples_.cpu().numpy())\n",
    "        _, _, _, samples_ = propose(samples_, dynamics, do_mh_step=True, trainable=False)\n",
    "        samples_ = samples_[0].detach()"
   ]
  },
  {
   "cell_type": "code",
   "execution_count": 14,
   "metadata": {},
   "outputs": [
    {
     "name": "stderr",
     "output_type": "stream",
     "text": [
      "100%|██████████| 2000/2000 [00:52<00:00, 38.30it/s]\n",
      "100%|██████████| 2000/2000 [00:52<00:00, 37.47it/s]\n",
      "100%|██████████| 2000/2000 [00:52<00:00, 37.57it/s]\n"
     ]
    }
   ],
   "source": [
    "L2HMC_samples = np.array(final_samples)\n",
    "with torch.no_grad():\n",
    "    HMC_samples_1 = get_hmc_samples(2, 0.1, dist.get_energy_function(), steps=length_of_chains, samples=samples)\n",
    "    HMC_samples_2 = get_hmc_samples(2, 0.15, dist.get_energy_function(), steps=length_of_chains, samples=samples)\n",
    "    HMC_samples_3 = get_hmc_samples(2, 0.2, dist.get_energy_function(), steps=length_of_chains, samples=samples)"
   ]
  },
  {
   "cell_type": "code",
   "execution_count": 15,
   "metadata": {},
   "outputs": [
    {
     "data": {
      "text/plain": [
       "(2000, 200, 2)"
      ]
     },
     "execution_count": 15,
     "metadata": {},
     "output_type": "execute_result"
    }
   ],
   "source": [
    "L2HMC_samples.shape"
   ]
  },
  {
   "cell_type": "code",
   "execution_count": 16,
   "metadata": {},
   "outputs": [
    {
     "data": {
      "text/plain": [
       "(2000, 200, 2)"
      ]
     },
     "execution_count": 16,
     "metadata": {},
     "output_type": "execute_result"
    }
   ],
   "source": [
    "HMC_samples_1.shape"
   ]
  },
  {
   "cell_type": "code",
   "execution_count": null,
   "metadata": {},
   "outputs": [],
   "source": [
    "cov_= np.array([[4.1, 0], [0, 0.1]])\n",
    "scale = np.sqrt(np.trace(cov_))\n",
    "L2HMC = acl_spectrum(L2HMC_samples, scale=scale)\n",
    "HMC1 = acl_spectrum(HMC_samples_1, scale=scale)\n",
    "HMC2 = acl_spectrum(HMC_samples_2, scale=scale)\n",
    "HMC3 = acl_spectrum(HMC_samples_3, scale=scale)"
   ]
  },
  {
   "cell_type": "code",
   "execution_count": null,
   "metadata": {},
   "outputs": [],
   "source": [
    "xaxis = 10 * np.arange(50)\n",
    "fig = plt.figure()\n",
    "plt.plot(xaxis, L2HMC[:50], label='L2HMC', color=c_l2hmc)\n",
    "plt.plot(xaxis, HMC1[:50], label='HMC $\\epsilon=0.25$', color=c_hmc2)\n",
    "plt.plot(xaxis, HMC2[:50], label='HMC $\\epsilon=0.50$', color=c_hmc3)\n",
    "plt.plot(xaxis, HMC3[:50], label='HMC $\\epsilon=1.0$', color=c_hmc3)\n",
    "plt.ylabel('Auto-correlation')\n",
    "plt.xlabel('Gradient computations')\n",
    "plt.title('Gaussian Mixture Model')\n",
    "plt.legend()\n",
    "plt.tight_layout()\n",
    "plt.show()\n",
    "# fig.savefig('iso_gmm_plot.png', dpi=200)"
   ]
  },
  {
   "cell_type": "code",
   "execution_count": null,
   "metadata": {},
   "outputs": [],
   "source": [
    "print('ESS L2HMC: %.2e -- ESS HMC: %.2e -- Ratio: %.3f' % (ESS(L2HMC), ESS(HMC2), ESS(L2HMC) / ESS(HMC2)))"
   ]
  },
  {
   "cell_type": "markdown",
   "metadata": {},
   "source": [
    "### L2HMC samples overlayed on ground truth samples"
   ]
  },
  {
   "cell_type": "code",
   "execution_count": null,
   "metadata": {},
   "outputs": [],
   "source": [
    "# plt.plot(S[:, 0], S[:, 1], 'o', alpha=0.6, color=main)\n",
    "fig = plt.figure(figsize=(8, 6))\n",
    "\n",
    "ax1 = plt.subplot(2,1,1)\n",
    "plot_gaussian_contours(mus, covs, colors=[c_contour, c_contour], x_lims=[-2.8,2.8], y_lims=[-1,1], res=200)\n",
    "plt.plot(L2HMC_samples[:50, 1, 0], L2HMC_samples[:50, 1, 1], color=c_l2hmc, marker='o', alpha=0.6)\n",
    "plt.title('Gaussian Mixture Model Sampling via L2HMC')\n",
    "plt.axis('equal')\n",
    "\n",
    "ax2 = plt.subplot(2,1,2, sharex=ax1)\n",
    "plot_gaussian_contours(mus, covs, colors=[c_contour, c_contour], x_lims=[-2.8,2.8], y_lims=[-1,1], res=200)\n",
    "plt.plot(HMC_samples_1[:50, 1, 0], HMC_samples_1[:50, 1, 1], color=c_hmc2, marker='o', alpha=0.6)\n",
    "plt.title('Gaussian Mixture Model Sampling via HMC ($\\epsilon = 0.25$)')\n",
    "plt.axis('equal')\n",
    "plt.tight_layout()\n",
    "\n",
    "plt.axis([-3,3,-2,2])\n",
    "\n",
    "plt.show()\n",
    "# fig.savefig('iso_gmm_explore.png', dpi=200)"
   ]
  },
  {
   "cell_type": "markdown",
   "metadata": {},
   "source": [
    "### HMC samples (Leapfrog step: ε = 0.25)"
   ]
  },
  {
   "cell_type": "code",
   "execution_count": null,
   "metadata": {},
   "outputs": [],
   "source": [
    "fig = plt.figure(figsize=(6, 3))\n",
    "plot_gaussian_contours(mus, covs, colors=[c_contour, c_contour], x_lims=[-2.8,2.8], y_lims=[-1,1], res=100)\n",
    "plt.plot(HMC_samples_1[:50, 1, 0], HMC_samples_1[:50, 1, 1], color=c_hmc1, marker='o', alpha=0.6)\n",
    "plt.xlim([-5,5])\n",
    "plt.title('Gaussian Mixture Model Sampling via HMC ($\\epsilon = 0.25$)')\n",
    "plt.axis('equal')\n",
    "plt.show()"
   ]
  },
  {
   "cell_type": "markdown",
   "metadata": {},
   "source": [
    "### HMC samples (Leapfrog step: ε = 0.50)"
   ]
  },
  {
   "cell_type": "code",
   "execution_count": null,
   "metadata": {},
   "outputs": [],
   "source": [
    "fig = plt.figure(figsize=(6, 3))\n",
    "plot_gaussian_contours(mus, covs, colors=[c_contour, c_contour], x_lims=[-2.8,2.8], y_lims=[-1,1])\n",
    "plt.plot(HMC_samples_2[:50, 1, 0], HMC_samples_2[:50, 1, 1], color=c_hmc2, marker='o', alpha=0.6)\n",
    "plt.title('Gaussian Mixture Model Sampling via HMC ($\\epsilon = 0.5$)')\n",
    "plt.axis('equal')\n",
    "plt.show()"
   ]
  },
  {
   "cell_type": "code",
   "execution_count": null,
   "metadata": {},
   "outputs": [],
   "source": []
  }
 ],
 "metadata": {
  "kernelspec": {
   "display_name": "Condatorch",
   "language": "python",
   "name": "condatorch"
  },
  "language_info": {
   "codemirror_mode": {
    "name": "ipython",
    "version": 3
   },
   "file_extension": ".py",
   "mimetype": "text/x-python",
   "name": "python",
   "nbconvert_exporter": "python",
   "pygments_lexer": "ipython3",
   "version": "3.7.3"
  }
 },
 "nbformat": 4,
 "nbformat_minor": 2
}
