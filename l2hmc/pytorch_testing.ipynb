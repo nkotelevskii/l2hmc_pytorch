{
 "cells": [
  {
   "cell_type": "code",
   "execution_count": 85,
   "metadata": {},
   "outputs": [],
   "source": [
    "import sys\n",
    "import numpy as np\n",
    "sys.path.insert(0, '/home/nkotelevskii/github/corrected_l2hmc/l2hmc_pytorch/l2hmc/utils/')\n",
    "from dynamics_pt import Dynamics\n",
    "import torch\n",
    "import torch.nn as nn"
   ]
  },
  {
   "cell_type": "code",
   "execution_count": 7,
   "metadata": {},
   "outputs": [],
   "source": [
    "cl = Dynamics(2, None)"
   ]
  },
  {
   "cell_type": "code",
   "execution_count": 8,
   "metadata": {},
   "outputs": [
    {
     "data": {
      "text/plain": [
       "tensor(5.)"
      ]
     },
     "execution_count": 8,
     "metadata": {},
     "output_type": "execute_result"
    }
   ],
   "source": [
    "cl.temperature"
   ]
  },
  {
   "cell_type": "code",
   "execution_count": 9,
   "metadata": {},
   "outputs": [
    {
     "data": {
      "text/plain": [
       "Parameter containing:\n",
       "tensor(0.1000, requires_grad=True)"
      ]
     },
     "execution_count": 9,
     "metadata": {},
     "output_type": "execute_result"
    }
   ],
   "source": [
    "cl.eps"
   ]
  },
  {
   "cell_type": "code",
   "execution_count": 16,
   "metadata": {},
   "outputs": [
    {
     "data": {
      "text/plain": [
       "tensor([[[ 0,  1,  2,  3]],\n",
       "\n",
       "        [[ 4,  5,  6,  7]],\n",
       "\n",
       "        [[ 8,  9, 10, 11]]])"
      ]
     },
     "execution_count": 16,
     "metadata": {},
     "output_type": "execute_result"
    }
   ],
   "source": [
    "a = torch.tensor(np.arange(12).reshape(3, 1, 4))\n",
    "a"
   ]
  },
  {
   "cell_type": "code",
   "execution_count": 17,
   "metadata": {},
   "outputs": [
    {
     "data": {
      "text/plain": [
       "tensor([[ 8,  9, 10, 11]])"
      ]
     },
     "execution_count": 17,
     "metadata": {},
     "output_type": "execute_result"
    }
   ],
   "source": [
    "a[2, ...]"
   ]
  },
  {
   "cell_type": "code",
   "execution_count": 23,
   "metadata": {},
   "outputs": [
    {
     "data": {
      "text/plain": [
       "torch.Size([6, 1, 4])"
      ]
     },
     "execution_count": 23,
     "metadata": {},
     "output_type": "execute_result"
    }
   ],
   "source": [
    "a.repeat(2, 1, 1).shape"
   ]
  },
  {
   "cell_type": "code",
   "execution_count": 28,
   "metadata": {},
   "outputs": [
    {
     "data": {
      "text/plain": [
       "torch.Size([3, 1, 4])"
      ]
     },
     "execution_count": 28,
     "metadata": {},
     "output_type": "execute_result"
    }
   ],
   "source": [
    "torch.randn(a.shape).shape"
   ]
  },
  {
   "cell_type": "code",
   "execution_count": 50,
   "metadata": {},
   "outputs": [
    {
     "data": {
      "text/plain": [
       "(3, 1, 4)"
      ]
     },
     "execution_count": 50,
     "metadata": {},
     "output_type": "execute_result"
    }
   ],
   "source": [
    "tuple(a.shape)"
   ]
  },
  {
   "cell_type": "code",
   "execution_count": 33,
   "metadata": {},
   "outputs": [
    {
     "data": {
      "text/plain": [
       "tensor([0., 0., 0., 0., 0., 0., 0., 0., 0., 0.])"
      ]
     },
     "execution_count": 33,
     "metadata": {},
     "output_type": "execute_result"
    }
   ],
   "source": [
    "torch.zeros(10)"
   ]
  },
  {
   "cell_type": "code",
   "execution_count": 37,
   "metadata": {},
   "outputs": [
    {
     "data": {
      "text/plain": [
       "tensor(10.)"
      ]
     },
     "execution_count": 37,
     "metadata": {},
     "output_type": "execute_result"
    }
   ],
   "source": [
    "t = torch.tensor(0.)\n",
    "while t < 10:\n",
    "    t += 1\n",
    "t"
   ]
  },
  {
   "cell_type": "code",
   "execution_count": 51,
   "metadata": {},
   "outputs": [
    {
     "data": {
      "text/plain": [
       "tensor([1., 2., 4.])"
      ]
     },
     "execution_count": 51,
     "metadata": {},
     "output_type": "execute_result"
    }
   ],
   "source": [
    "torch.tensor([1, 2, 4.])"
   ]
  },
  {
   "cell_type": "code",
   "execution_count": 79,
   "metadata": {},
   "outputs": [],
   "source": [
    "def func(xx):\n",
    "    cc = 2 * xx**2\n",
    "    gg =3 * cc\n",
    "    return gg"
   ]
  },
  {
   "cell_type": "code",
   "execution_count": 80,
   "metadata": {},
   "outputs": [
    {
     "name": "stdout",
     "output_type": "stream",
     "text": [
      "x tensor([0.5901, 0.9670, 0.0363, 0.6394, 0.7514], requires_grad=True)\n"
     ]
    },
    {
     "data": {
      "text/plain": [
       "(tensor([ 7.0811, 11.6041,  0.4354,  7.6729,  9.0168]),)"
      ]
     },
     "execution_count": 80,
     "metadata": {},
     "output_type": "execute_result"
    }
   ],
   "source": [
    "x = torch.autograd.Variable(torch.rand(5), requires_grad=True)\n",
    "print('x', x)\n",
    "y = torch.sum(func(x))\n",
    "deriv = torch.autograd.grad(y, x)\n",
    "deriv"
   ]
  },
  {
   "cell_type": "code",
   "execution_count": 81,
   "metadata": {},
   "outputs": [
    {
     "data": {
      "text/plain": [
       "torch.Size([5])"
      ]
     },
     "execution_count": 81,
     "metadata": {},
     "output_type": "execute_result"
    }
   ],
   "source": [
    "deriv[0].shape"
   ]
  },
  {
   "cell_type": "code",
   "execution_count": 84,
   "metadata": {},
   "outputs": [
    {
     "data": {
      "text/plain": [
       "[1, 2]"
      ]
     },
     "execution_count": 84,
     "metadata": {},
     "output_type": "execute_result"
    }
   ],
   "source": [
    "[1, 2, 3][:-1]"
   ]
  },
  {
   "cell_type": "code",
   "execution_count": 127,
   "metadata": {},
   "outputs": [],
   "source": [
    "from collections import OrderedDict\n",
    "import itertools"
   ]
  },
  {
   "cell_type": "code",
   "execution_count": 128,
   "metadata": {},
   "outputs": [],
   "source": [
    "net1 = nn.Sequential(OrderedDict([('lin1', nn.Linear(1, 2)), ('relu', nn.ReLU()), ('lin2', nn.Linear(2, 1))]))\n",
    "net2 = nn.Sequential(OrderedDict([('lin1', nn.Linear(1, 2)), ('relu', nn.ReLU()), ('lin2', nn.Linear(2, 1))]))\n",
    "\n",
    "optim = torch.optim.Adam(itertools.chain(net1.parameters(), net2.parameters()))\n",
    "scheduler = torch.optim.lr_scheduler.StepLR(optim, step_size=10, gamma=0.5)"
   ]
  },
  {
   "cell_type": "code",
   "execution_count": 129,
   "metadata": {},
   "outputs": [],
   "source": [
    "x_train = torch.rand((100, 1))\n",
    "y_train = x_train.sum(dim=1)**2 + 0.01 * torch.randn(x_train.shape[0])"
   ]
  },
  {
   "cell_type": "code",
   "execution_count": 130,
   "metadata": {},
   "outputs": [
    {
     "name": "stdout",
     "output_type": "stream",
     "text": [
      "loss tensor(0.0097, grad_fn=<MeanBackward0>)\n",
      "before backward tensor([0.4995, 0.0000])\n",
      "after backward tensor([0.4995, 0.0000])\n",
      "current_lr 0.001\n",
      "loss tensor(0.0096, grad_fn=<MeanBackward0>)\n",
      "before backward tensor([0.4995, 0.0000])\n",
      "after backward tensor([0.4995, 0.0000])\n",
      "current_lr 0.001\n",
      "loss tensor(0.0094, grad_fn=<MeanBackward0>)\n",
      "before backward tensor([0.4995, 0.0000])\n",
      "after backward tensor([0.4995, 0.0000])\n",
      "current_lr 0.001\n",
      "loss tensor(0.0093, grad_fn=<MeanBackward0>)\n",
      "before backward tensor([0.4995, 0.0000])\n",
      "after backward tensor([0.4995, 0.0000])\n",
      "current_lr 0.001\n",
      "loss tensor(0.0092, grad_fn=<MeanBackward0>)\n",
      "before backward tensor([0.4995, 0.0000])\n",
      "after backward tensor([0.4995, 0.0000])\n",
      "current_lr 0.001\n",
      "loss tensor(0.0091, grad_fn=<MeanBackward0>)\n",
      "before backward tensor([0.4995, 0.0000])\n",
      "after backward tensor([0.4995, 0.0000])\n",
      "current_lr 0.001\n",
      "loss tensor(0.0090, grad_fn=<MeanBackward0>)\n",
      "before backward tensor([0.4995, 0.0000])\n",
      "after backward tensor([0.4995, 0.0000])\n",
      "current_lr 0.001\n",
      "loss tensor(0.0090, grad_fn=<MeanBackward0>)\n",
      "before backward tensor([0.4995, 0.0000])\n",
      "after backward tensor([0.4995, 0.0000])\n",
      "current_lr 0.001\n",
      "loss tensor(0.0089, grad_fn=<MeanBackward0>)\n",
      "before backward tensor([0.4995, 0.0000])\n",
      "after backward tensor([0.4995, 0.0000])\n",
      "current_lr 0.001\n",
      "loss tensor(0.0088, grad_fn=<MeanBackward0>)\n",
      "before backward tensor([0.4995, 0.0000])\n",
      "after backward tensor([0.4995, 0.0000])\n",
      "current_lr 0.0005\n",
      "loss tensor(0.0088, grad_fn=<MeanBackward0>)\n",
      "before backward tensor([0.4995, 0.0000])\n",
      "after backward tensor([0.4995, 0.0000])\n",
      "current_lr 0.0005\n",
      "loss tensor(0.0087, grad_fn=<MeanBackward0>)\n",
      "before backward tensor([0.4995, 0.0000])\n",
      "after backward tensor([0.4995, 0.0000])\n",
      "current_lr 0.0005\n",
      "loss tensor(0.0087, grad_fn=<MeanBackward0>)\n",
      "before backward tensor([0.4995, 0.0000])\n",
      "after backward tensor([0.4995, 0.0000])\n",
      "current_lr 0.0005\n",
      "loss tensor(0.0087, grad_fn=<MeanBackward0>)\n",
      "before backward tensor([0.4995, 0.0000])\n",
      "after backward tensor([0.4995, 0.0000])\n",
      "current_lr 0.0005\n",
      "loss tensor(0.0087, grad_fn=<MeanBackward0>)\n",
      "before backward tensor([0.4995, 0.0000])\n",
      "after backward tensor([0.4995, 0.0000])\n",
      "current_lr 0.0005\n",
      "loss tensor(0.0087, grad_fn=<MeanBackward0>)\n",
      "before backward tensor([0.4995, 0.0000])\n",
      "after backward tensor([0.4995, 0.0000])\n",
      "current_lr 0.0005\n",
      "loss tensor(0.0087, grad_fn=<MeanBackward0>)\n",
      "before backward tensor([0.4995, 0.0000])\n",
      "after backward tensor([0.4995, 0.0000])\n",
      "current_lr 0.0005\n",
      "loss tensor(0.0086, grad_fn=<MeanBackward0>)\n",
      "before backward tensor([0.4995, 0.0000])\n",
      "after backward tensor([0.4995, 0.0000])\n",
      "current_lr 0.0005\n",
      "loss tensor(0.0086, grad_fn=<MeanBackward0>)\n",
      "before backward tensor([0.4995, 0.0000])\n",
      "after backward tensor([0.4995, 0.0000])\n",
      "current_lr 0.0005\n",
      "loss tensor(0.0086, grad_fn=<MeanBackward0>)\n",
      "before backward tensor([0.4995, 0.0000])\n",
      "after backward tensor([0.4995, 0.0000])\n",
      "current_lr 0.00025\n",
      "loss tensor(0.0086, grad_fn=<MeanBackward0>)\n",
      "before backward tensor([0.4995, 0.0000])\n",
      "after backward tensor([0.4995, 0.0000])\n",
      "current_lr 0.00025\n",
      "loss tensor(0.0086, grad_fn=<MeanBackward0>)\n",
      "before backward tensor([0.4995, 0.0000])\n",
      "after backward tensor([0.4995, 0.0000])\n",
      "current_lr 0.00025\n",
      "loss tensor(0.0086, grad_fn=<MeanBackward0>)\n",
      "before backward tensor([0.4995, 0.0000])\n",
      "after backward tensor([0.4995, 0.0000])\n",
      "current_lr 0.00025\n",
      "loss tensor(0.0086, grad_fn=<MeanBackward0>)\n",
      "before backward tensor([0.4995, 0.0000])\n",
      "after backward tensor([0.4995, 0.0000])\n",
      "current_lr 0.00025\n",
      "loss tensor(0.0086, grad_fn=<MeanBackward0>)\n",
      "before backward tensor([0.4995, 0.0000])\n",
      "after backward tensor([0.4995, 0.0000])\n",
      "current_lr 0.00025\n",
      "loss tensor(0.0086, grad_fn=<MeanBackward0>)\n",
      "before backward tensor([0.4995, 0.0000])\n",
      "after backward tensor([0.4995, 0.0000])\n",
      "current_lr 0.00025\n",
      "loss tensor(0.0086, grad_fn=<MeanBackward0>)\n",
      "before backward tensor([0.4995, 0.0000])\n",
      "after backward tensor([0.4995, 0.0000])\n",
      "current_lr 0.00025\n",
      "loss tensor(0.0086, grad_fn=<MeanBackward0>)\n",
      "before backward tensor([0.4995, 0.0000])\n",
      "after backward tensor([0.4995, 0.0000])\n",
      "current_lr 0.00025\n",
      "loss tensor(0.0086, grad_fn=<MeanBackward0>)\n",
      "before backward tensor([0.4995, 0.0000])\n",
      "after backward tensor([0.4995, 0.0000])\n",
      "current_lr 0.00025\n",
      "loss tensor(0.0086, grad_fn=<MeanBackward0>)\n",
      "before backward tensor([0.4995, 0.0000])\n",
      "after backward tensor([0.4995, 0.0000])\n",
      "current_lr 0.000125\n",
      "loss tensor(0.0086, grad_fn=<MeanBackward0>)\n",
      "before backward tensor([0.4995, 0.0000])\n",
      "after backward tensor([0.4995, 0.0000])\n",
      "current_lr 0.000125\n",
      "loss tensor(0.0086, grad_fn=<MeanBackward0>)\n",
      "before backward tensor([0.4995, 0.0000])\n",
      "after backward tensor([0.4995, 0.0000])\n",
      "current_lr 0.000125\n",
      "loss tensor(0.0086, grad_fn=<MeanBackward0>)\n",
      "before backward tensor([0.4995, 0.0000])\n",
      "after backward tensor([0.4995, 0.0000])\n",
      "current_lr 0.000125\n",
      "loss tensor(0.0086, grad_fn=<MeanBackward0>)\n",
      "before backward tensor([0.4995, 0.0000])\n",
      "after backward tensor([0.4995, 0.0000])\n",
      "current_lr 0.000125\n",
      "loss tensor(0.0086, grad_fn=<MeanBackward0>)\n",
      "before backward tensor([0.4995, 0.0000])\n",
      "after backward tensor([0.4995, 0.0000])\n",
      "current_lr 0.000125\n",
      "loss tensor(0.0086, grad_fn=<MeanBackward0>)\n",
      "before backward tensor([0.4995, 0.0000])\n",
      "after backward tensor([0.4995, 0.0000])\n",
      "current_lr 0.000125\n",
      "loss tensor(0.0086, grad_fn=<MeanBackward0>)\n",
      "before backward tensor([0.4995, 0.0000])\n",
      "after backward tensor([0.4995, 0.0000])\n",
      "current_lr 0.000125\n",
      "loss tensor(0.0086, grad_fn=<MeanBackward0>)\n",
      "before backward tensor([0.4995, 0.0000])\n",
      "after backward tensor([0.4995, 0.0000])\n",
      "current_lr 0.000125\n",
      "loss tensor(0.0086, grad_fn=<MeanBackward0>)\n",
      "before backward tensor([0.4995, 0.0000])\n",
      "after backward tensor([0.4995, 0.0000])\n",
      "current_lr 0.000125\n",
      "loss tensor(0.0086, grad_fn=<MeanBackward0>)\n",
      "before backward tensor([0.4995, 0.0000])\n",
      "after backward tensor([0.4995, 0.0000])\n",
      "current_lr 6.25e-05\n",
      "loss tensor(0.0086, grad_fn=<MeanBackward0>)\n",
      "before backward tensor([0.4995, 0.0000])\n",
      "after backward tensor([0.4995, 0.0000])\n",
      "current_lr 6.25e-05\n",
      "loss tensor(0.0086, grad_fn=<MeanBackward0>)\n",
      "before backward tensor([0.4995, 0.0000])\n",
      "after backward tensor([0.4995, 0.0000])\n",
      "current_lr 6.25e-05\n",
      "loss tensor(0.0086, grad_fn=<MeanBackward0>)\n",
      "before backward tensor([0.4995, 0.0000])\n",
      "after backward tensor([0.4995, 0.0000])\n",
      "current_lr 6.25e-05\n",
      "loss tensor(0.0086, grad_fn=<MeanBackward0>)\n",
      "before backward tensor([0.4995, 0.0000])\n",
      "after backward tensor([0.4995, 0.0000])\n",
      "current_lr 6.25e-05\n",
      "loss tensor(0.0086, grad_fn=<MeanBackward0>)\n",
      "before backward tensor([0.4995, 0.0000])\n",
      "after backward tensor([0.4995, 0.0000])\n",
      "current_lr 6.25e-05\n",
      "loss tensor(0.0086, grad_fn=<MeanBackward0>)\n",
      "before backward tensor([0.4995, 0.0000])\n",
      "after backward tensor([0.4995, 0.0000])\n",
      "current_lr 6.25e-05\n",
      "loss tensor(0.0086, grad_fn=<MeanBackward0>)\n",
      "before backward tensor([0.4995, 0.0000])\n",
      "after backward tensor([0.4995, 0.0000])\n",
      "current_lr 6.25e-05\n",
      "loss tensor(0.0086, grad_fn=<MeanBackward0>)\n",
      "before backward tensor([0.4995, 0.0000])\n",
      "after backward tensor([0.4995, 0.0000])\n",
      "current_lr 6.25e-05\n",
      "loss tensor(0.0086, grad_fn=<MeanBackward0>)\n",
      "before backward tensor([0.4995, 0.0000])\n",
      "after backward tensor([0.4995, 0.0000])\n",
      "current_lr 6.25e-05\n",
      "loss tensor(0.0086, grad_fn=<MeanBackward0>)\n",
      "before backward tensor([0.4995, 0.0000])\n",
      "after backward tensor([0.4995, 0.0000])\n",
      "current_lr 3.125e-05\n",
      "loss tensor(0.0086, grad_fn=<MeanBackward0>)\n",
      "before backward tensor([0.4995, 0.0000])\n",
      "after backward tensor([0.4995, 0.0000])\n",
      "current_lr 3.125e-05\n",
      "loss tensor(0.0086, grad_fn=<MeanBackward0>)\n",
      "before backward tensor([0.4995, 0.0000])\n",
      "after backward tensor([0.4995, 0.0000])\n",
      "current_lr 3.125e-05\n",
      "loss tensor(0.0086, grad_fn=<MeanBackward0>)\n",
      "before backward tensor([0.4995, 0.0000])\n",
      "after backward tensor([0.4995, 0.0000])\n",
      "current_lr 3.125e-05\n",
      "loss tensor(0.0086, grad_fn=<MeanBackward0>)\n",
      "before backward tensor([0.4995, 0.0000])\n",
      "after backward tensor([0.4995, 0.0000])\n",
      "current_lr 3.125e-05\n",
      "loss tensor(0.0086, grad_fn=<MeanBackward0>)\n",
      "before backward tensor([0.4995, 0.0000])\n",
      "after backward tensor([0.4995, 0.0000])\n",
      "current_lr 3.125e-05\n",
      "loss tensor(0.0086, grad_fn=<MeanBackward0>)\n",
      "before backward tensor([0.4995, 0.0000])\n",
      "after backward tensor([0.4995, 0.0000])\n",
      "current_lr 3.125e-05\n",
      "loss tensor(0.0086, grad_fn=<MeanBackward0>)\n",
      "before backward tensor([0.4995, 0.0000])\n",
      "after backward tensor([0.4995, 0.0000])\n",
      "current_lr 3.125e-05\n",
      "loss tensor(0.0086, grad_fn=<MeanBackward0>)\n",
      "before backward tensor([0.4995, 0.0000])\n",
      "after backward tensor([0.4995, 0.0000])\n",
      "current_lr 3.125e-05\n",
      "loss tensor(0.0086, grad_fn=<MeanBackward0>)\n",
      "before backward tensor([0.4995, 0.0000])\n",
      "after backward tensor([0.4995, 0.0000])\n",
      "current_lr 3.125e-05\n",
      "loss tensor(0.0086, grad_fn=<MeanBackward0>)\n",
      "before backward tensor([0.4995, 0.0000])\n",
      "after backward tensor([0.4995, 0.0000])\n",
      "current_lr 1.5625e-05\n",
      "loss tensor(0.0086, grad_fn=<MeanBackward0>)\n",
      "before backward tensor([0.4995, 0.0000])\n",
      "after backward tensor([0.4995, 0.0000])\n",
      "current_lr 1.5625e-05\n",
      "loss tensor(0.0086, grad_fn=<MeanBackward0>)\n",
      "before backward tensor([0.4995, 0.0000])\n",
      "after backward tensor([0.4995, 0.0000])\n",
      "current_lr 1.5625e-05\n",
      "loss tensor(0.0086, grad_fn=<MeanBackward0>)\n",
      "before backward tensor([0.4995, 0.0000])\n",
      "after backward tensor([0.4995, 0.0000])\n",
      "current_lr 1.5625e-05\n",
      "loss tensor(0.0086, grad_fn=<MeanBackward0>)\n",
      "before backward tensor([0.4995, 0.0000])\n",
      "after backward tensor([0.4995, 0.0000])\n",
      "current_lr 1.5625e-05\n",
      "loss tensor(0.0086, grad_fn=<MeanBackward0>)\n",
      "before backward tensor([0.4995, 0.0000])\n",
      "after backward tensor([0.4995, 0.0000])\n",
      "current_lr 1.5625e-05\n",
      "loss tensor(0.0086, grad_fn=<MeanBackward0>)\n",
      "before backward tensor([0.4995, 0.0000])\n",
      "after backward tensor([0.4995, 0.0000])\n",
      "current_lr 1.5625e-05\n",
      "loss tensor(0.0086, grad_fn=<MeanBackward0>)\n",
      "before backward tensor([0.4995, 0.0000])\n",
      "after backward tensor([0.4995, 0.0000])\n",
      "current_lr 1.5625e-05\n",
      "loss tensor(0.0086, grad_fn=<MeanBackward0>)\n",
      "before backward tensor([0.4995, 0.0000])\n",
      "after backward tensor([0.4995, 0.0000])\n",
      "current_lr 1.5625e-05\n",
      "loss tensor(0.0086, grad_fn=<MeanBackward0>)\n",
      "before backward tensor([0.4995, 0.0000])\n",
      "after backward tensor([0.4995, 0.0000])\n",
      "current_lr 1.5625e-05\n",
      "loss tensor(0.0086, grad_fn=<MeanBackward0>)\n",
      "before backward tensor([0.4995, 0.0000])\n",
      "after backward tensor([0.4995, 0.0000])\n",
      "current_lr 7.8125e-06\n",
      "loss tensor(0.0086, grad_fn=<MeanBackward0>)\n",
      "before backward tensor([0.4995, 0.0000])\n",
      "after backward tensor([0.4995, 0.0000])\n",
      "current_lr 7.8125e-06\n",
      "loss tensor(0.0086, grad_fn=<MeanBackward0>)\n",
      "before backward tensor([0.4995, 0.0000])\n",
      "after backward tensor([0.4995, 0.0000])\n",
      "current_lr 7.8125e-06\n",
      "loss tensor(0.0086, grad_fn=<MeanBackward0>)\n",
      "before backward tensor([0.4995, 0.0000])\n",
      "after backward tensor([0.4995, 0.0000])\n",
      "current_lr 7.8125e-06\n",
      "loss tensor(0.0086, grad_fn=<MeanBackward0>)\n",
      "before backward tensor([0.4995, 0.0000])\n",
      "after backward tensor([0.4995, 0.0000])\n",
      "current_lr 7.8125e-06\n",
      "loss tensor(0.0086, grad_fn=<MeanBackward0>)\n",
      "before backward tensor([0.4995, 0.0000])\n",
      "after backward tensor([0.4995, 0.0000])\n",
      "current_lr 7.8125e-06\n",
      "loss tensor(0.0086, grad_fn=<MeanBackward0>)\n",
      "before backward tensor([0.4995, 0.0000])\n",
      "after backward tensor([0.4995, 0.0000])\n",
      "current_lr 7.8125e-06\n",
      "loss tensor(0.0086, grad_fn=<MeanBackward0>)\n",
      "before backward tensor([0.4995, 0.0000])\n",
      "after backward tensor([0.4995, 0.0000])\n",
      "current_lr 7.8125e-06\n",
      "loss tensor(0.0086, grad_fn=<MeanBackward0>)\n",
      "before backward tensor([0.4995, 0.0000])\n",
      "after backward tensor([0.4995, 0.0000])\n",
      "current_lr 7.8125e-06\n",
      "loss tensor(0.0086, grad_fn=<MeanBackward0>)\n",
      "before backward tensor([0.4995, 0.0000])\n",
      "after backward tensor([0.4995, 0.0000])\n",
      "current_lr 7.8125e-06\n",
      "loss tensor(0.0086, grad_fn=<MeanBackward0>)\n",
      "before backward tensor([0.4995, 0.0000])\n",
      "after backward tensor([0.4995, 0.0000])\n",
      "current_lr 3.90625e-06\n",
      "loss tensor(0.0086, grad_fn=<MeanBackward0>)\n",
      "before backward tensor([0.4995, 0.0000])\n",
      "after backward tensor([0.4995, 0.0000])\n",
      "current_lr 3.90625e-06\n",
      "loss tensor(0.0086, grad_fn=<MeanBackward0>)\n",
      "before backward tensor([0.4995, 0.0000])\n",
      "after backward tensor([0.4995, 0.0000])\n",
      "current_lr 3.90625e-06\n",
      "loss tensor(0.0086, grad_fn=<MeanBackward0>)\n",
      "before backward tensor([0.4995, 0.0000])\n",
      "after backward tensor([0.4995, 0.0000])\n",
      "current_lr 3.90625e-06\n",
      "loss tensor(0.0086, grad_fn=<MeanBackward0>)\n",
      "before backward tensor([0.4995, 0.0000])\n",
      "after backward tensor([0.4995, 0.0000])\n",
      "current_lr 3.90625e-06\n",
      "loss tensor(0.0086, grad_fn=<MeanBackward0>)\n",
      "before backward tensor([0.4995, 0.0000])\n",
      "after backward tensor([0.4995, 0.0000])\n",
      "current_lr 3.90625e-06\n",
      "loss tensor(0.0086, grad_fn=<MeanBackward0>)\n",
      "before backward tensor([0.4995, 0.0000])\n",
      "after backward tensor([0.4995, 0.0000])\n",
      "current_lr 3.90625e-06\n",
      "loss tensor(0.0086, grad_fn=<MeanBackward0>)\n",
      "before backward tensor([0.4995, 0.0000])\n",
      "after backward tensor([0.4995, 0.0000])\n",
      "current_lr 3.90625e-06\n",
      "loss tensor(0.0086, grad_fn=<MeanBackward0>)\n",
      "before backward tensor([0.4995, 0.0000])\n",
      "after backward tensor([0.4995, 0.0000])\n",
      "current_lr 3.90625e-06\n",
      "loss tensor(0.0086, grad_fn=<MeanBackward0>)\n",
      "before backward tensor([0.4995, 0.0000])\n",
      "after backward tensor([0.4995, 0.0000])\n",
      "current_lr 3.90625e-06\n",
      "loss tensor(0.0086, grad_fn=<MeanBackward0>)\n",
      "before backward tensor([0.4995, 0.0000])\n",
      "after backward tensor([0.4995, 0.0000])\n",
      "current_lr 1.953125e-06\n",
      "loss tensor(0.0086, grad_fn=<MeanBackward0>)\n",
      "before backward tensor([0.4995, 0.0000])\n",
      "after backward tensor([0.4995, 0.0000])\n",
      "current_lr 1.953125e-06\n",
      "loss tensor(0.0086, grad_fn=<MeanBackward0>)\n",
      "before backward tensor([0.4995, 0.0000])\n",
      "after backward tensor([0.4995, 0.0000])\n",
      "current_lr 1.953125e-06\n",
      "loss tensor(0.0086, grad_fn=<MeanBackward0>)\n",
      "before backward tensor([0.4995, 0.0000])\n",
      "after backward tensor([0.4995, 0.0000])\n",
      "current_lr 1.953125e-06\n",
      "loss tensor(0.0086, grad_fn=<MeanBackward0>)\n",
      "before backward tensor([0.4995, 0.0000])\n",
      "after backward tensor([0.4995, 0.0000])\n",
      "current_lr 1.953125e-06\n",
      "loss tensor(0.0086, grad_fn=<MeanBackward0>)\n",
      "before backward tensor([0.4995, 0.0000])\n",
      "after backward tensor([0.4995, 0.0000])\n",
      "current_lr 1.953125e-06\n",
      "loss tensor(0.0086, grad_fn=<MeanBackward0>)\n",
      "before backward tensor([0.4995, 0.0000])\n",
      "after backward tensor([0.4995, 0.0000])\n",
      "current_lr 1.953125e-06\n",
      "loss tensor(0.0086, grad_fn=<MeanBackward0>)\n",
      "before backward tensor([0.4995, 0.0000])\n",
      "after backward tensor([0.4995, 0.0000])\n",
      "current_lr 1.953125e-06\n",
      "loss tensor(0.0086, grad_fn=<MeanBackward0>)\n",
      "before backward tensor([0.4995, 0.0000])\n",
      "after backward tensor([0.4995, 0.0000])\n",
      "current_lr 1.953125e-06\n",
      "loss tensor(0.0086, grad_fn=<MeanBackward0>)\n",
      "before backward tensor([0.4995, 0.0000])\n",
      "after backward tensor([0.4995, 0.0000])\n",
      "current_lr 1.953125e-06\n",
      "loss tensor(0.0086, grad_fn=<MeanBackward0>)\n",
      "before backward tensor([0.4995, 0.0000])\n",
      "after backward tensor([0.4995, 0.0000])\n",
      "current_lr 9.765625e-07\n"
     ]
    }
   ],
   "source": [
    "n_epoches = 100\n",
    "for i in range(n_epoches):\n",
    "    optim.zero_grad()\n",
    "    answ = x_train\n",
    "    answ1 = answ\n",
    "    answ2 = answ\n",
    "    for t in range(3):\n",
    "        answ1 = net1(answ1)\n",
    "    for t in range(3):\n",
    "        answ2 = net2(answ2)\n",
    "        \n",
    "    loss = torch.mean(((y_train) ** 8 - answ1 - answ2)**2)\n",
    "    print('loss', loss)\n",
    "    print('before backward', net.lin1.bias.grad)\n",
    "    loss.backward()\n",
    "    print('after backward', net.lin1.bias.grad)\n",
    "    optim.step()\n",
    "    scheduler.step()\n",
    "    for param_group in optim.param_groups:\n",
    "        current_lr = param_group['lr']\n",
    "        print('current_lr', current_lr)"
   ]
  },
  {
   "cell_type": "code",
   "execution_count": null,
   "metadata": {},
   "outputs": [],
   "source": []
  }
 ],
 "metadata": {
  "kernelspec": {
   "display_name": "Condatorch",
   "language": "python",
   "name": "condatorch"
  },
  "language_info": {
   "codemirror_mode": {
    "name": "ipython",
    "version": 3
   },
   "file_extension": ".py",
   "mimetype": "text/x-python",
   "name": "python",
   "nbconvert_exporter": "python",
   "pygments_lexer": "ipython3",
   "version": "3.7.3"
  }
 },
 "nbformat": 4,
 "nbformat_minor": 2
}
