{
 "cells": [
  {
   "cell_type": "code",
   "execution_count": 1,
   "metadata": {},
   "outputs": [],
   "source": [
    "import numpy as np\n",
    "import torch.nn as nn\n",
    "import torch\n",
    "import torchvision"
   ]
  },
  {
   "cell_type": "code",
   "execution_count": null,
   "metadata": {},
   "outputs": [],
   "source": [
    "import time, sys, string, os\n",
    "\n",
    "from utils.func_utils import accept, jacobian, autocovariance, get_log_likelihood, get_data,\\\n",
    "    var_from_scope, binarize, normal_kl, binarize_and_shuffle\n",
    "from utils.distributions import Gaussian, GMM, GaussianFunnel, gen_ring\n",
    "from utils.layers import Linear, Parallel, Sequential, Zip, ScaleTanh\n",
    "from utils.dynamics import Dynamics\n",
    "from utils.sampler import propose, tf_accept, chain_operator\n",
    "from utils.losses import get_loss, loss_mixed\n",
    "\n",
    "FLAGS = tf.app.flags.FLAGS\n",
    "tf.app.flags.DEFINE_string('hparams', '', 'Comma sep list of name=value')\n",
    "tf.app.flags.DEFINE_string('exp_id', '', 'exp_id')\n",
    "\n",
    "DEFAULT_HPARAMS = tf.contrib.training.HParams(\n",
    "    learning_rate=0.001,\n",
    "    epoch=100,\n",
    "    leapfrogs=5,\n",
    "    MH=5,\n",
    "    optimizer='adam',\n",
    "    batch_size=512,\n",
    "    latent_dim=50,\n",
    "    update_sampler_every=1,\n",
    "    eval_samples_every=1,\n",
    "    random_lf_composition=0,\n",
    "    stop_gradient=False,\n",
    "    hmc=False,\n",
    "    eps=0.1,\n",
    "    energy_scale=0.,\n",
    ")\n",
    "\n",
    "# hardcode the loss\n",
    "LOSS = 'mixed'\n",
    "\n",
    "OPTIMIZERS = {\n",
    "    'adam': tf.train.AdamOptimizer,\n",
    "    'rmsprop': tf.train.RMSPropOptimizer,\n",
    "    'nesterov': tf.train.MomentumOptimizer,\n",
    "    'sgd': tf.train.GradientDescentOptimizer,\n",
    "}"
   ]
  }
 ],
 "metadata": {
  "kernelspec": {
   "display_name": "Condatorch",
   "language": "python",
   "name": "condatorch"
  },
  "language_info": {
   "codemirror_mode": {
    "name": "ipython",
    "version": 3
   },
   "file_extension": ".py",
   "mimetype": "text/x-python",
   "name": "python",
   "nbconvert_exporter": "python",
   "pygments_lexer": "ipython3",
   "version": "3.7.3"
  }
 },
 "nbformat": 4,
 "nbformat_minor": 4
}
