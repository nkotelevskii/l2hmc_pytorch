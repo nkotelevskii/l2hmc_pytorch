{
 "cells": [
  {
   "cell_type": "code",
   "execution_count": 1,
   "metadata": {},
   "outputs": [],
   "source": [
    "%matplotlib inline\n",
    "%reload_ext autoreload\n",
    "%autoreload 2\n",
    "\n",
    "import sys\n",
    "sys.path.insert(0, '/home/nkotelevskii/github/corrected_l2hmc/l2hmc_pytorch/l2hmc/utils/')\n",
    "\n",
    "import os\n",
    "# os.environ['CUDA_VISIBLE_DEVICES'] = ''\n",
    "\n",
    "import torch\n",
    "import torch.nn as nn\n",
    "from torch.optim import Adam\n",
    "from torch.optim.lr_scheduler import ExponentialLR, StepLR\n",
    "from tqdm import tqdm\n",
    "import itertools\n",
    "\n",
    "import numpy as np\n",
    "import matplotlib as mpl\n",
    "import matplotlib.pyplot as plt\n",
    "from utils.distributions_pt import GMM #random_tilted_gaussian, Gaussian, GMM, RoughWell\n",
    "from utils.notebook_utils_pt import get_hmc_samples, plot_gaussian_contours\n",
    "\n",
    "import seaborn as sns\n",
    "sns.set_palette(\"muted\")"
   ]
  },
  {
   "cell_type": "code",
   "execution_count": 2,
   "metadata": {},
   "outputs": [
    {
     "data": {
      "text/plain": [
       "device(type='cuda', index=0)"
      ]
     },
     "execution_count": 2,
     "metadata": {},
     "output_type": "execute_result"
    }
   ],
   "source": [
    "device = torch.device('cuda:0' if torch.cuda.is_available() else 'cpu')\n",
    "device"
   ]
  },
  {
   "cell_type": "code",
   "execution_count": 3,
   "metadata": {},
   "outputs": [],
   "source": [
    "from func_utils_pt import acl_spectrum, ESS"
   ]
  },
  {
   "cell_type": "code",
   "execution_count": 4,
   "metadata": {},
   "outputs": [],
   "source": [
    "from distributions_pt import Gaussian\n",
    "from layers_pt import Net\n",
    "from dynamics_pt import Dynamics\n",
    "from sampler_pt import propose\n",
    "from notebook_utils_pt import get_hmc_samples\n",
    "import random\n",
    "\n",
    "from IPython.core.debugger import set_trace"
   ]
  },
  {
   "cell_type": "code",
   "execution_count": 5,
   "metadata": {},
   "outputs": [],
   "source": [
    "# torch.backends.cudnn.deterministic = True\n",
    "# torch.backends.cudnn.benchmark = False\n",
    "# np.random.seed(0)   \n",
    "# random.seed(0)"
   ]
  },
  {
   "cell_type": "code",
   "execution_count": null,
   "metadata": {},
   "outputs": [],
   "source": []
  },
  {
   "cell_type": "code",
   "execution_count": 6,
   "metadata": {},
   "outputs": [],
   "source": [
    "# Color definition for plots\n",
    "c_l2hmc, c_hmc1, c_hmc2, c_hmc3 = 'blue', 'orange', 'green', 'red'\n",
    "c_true, c_contour = 'purple', '0.75'"
   ]
  },
  {
   "cell_type": "markdown",
   "metadata": {},
   "source": [
    "---\n",
    "# Network architecture"
   ]
  },
  {
   "cell_type": "code",
   "execution_count": 7,
   "metadata": {},
   "outputs": [],
   "source": [
    "network = Net"
   ]
  },
  {
   "cell_type": "markdown",
   "metadata": {},
   "source": [
    "\n",
    "---\n",
    "# Mixture of Gaussians (MoG)\n",
    "\n",
    "## Defining the distribution\n",
    "\n",
    "We define our energy function. It is a Gaussian distribution with zero mean. The covariance is a $\\pi/4$ rotation of the eigenvalues $[100, 10^{-1}]$. We set up our dynamics which take as input our energy function, the number of time step of our operator, the (learnable) step-size and our architecture."
   ]
  },
  {
   "cell_type": "code",
   "execution_count": 8,
   "metadata": {},
   "outputs": [],
   "source": [
    "x_dim = 2\n",
    "mu_1 = np.array([-2., 0.])\n",
    "mu_2 = np.array([2., 0.])\n",
    "mus = torch.tensor(np.array([mu_1, mu_2]), dtype=torch.float32, device=device)\n",
    "cov_1 = 0.1 * np.eye(2)\n",
    "cov_2 = 0.1 * np.eye(2)\n",
    "covs = torch.tensor(np.array([cov_1, cov_2]), dtype=torch.float32, device=device)\n",
    "pis = np.array([0.5, 0.5])\n",
    "dist = GMM(mus, covs, pis, device=device)"
   ]
  },
  {
   "cell_type": "code",
   "execution_count": 9,
   "metadata": {},
   "outputs": [
    {
     "data": {
      "image/png": "[encoded data removed]",
      "text/plain": [
       "<Figure size 432x288 with 1 Axes>"
      ]
     },
     "metadata": {
      "needs_background": "light"
     },
     "output_type": "display_data"
    }
   ],
   "source": [
    "S = dist.get_samples(500)\n",
    "fig = plt.figure()\n",
    "plt.title('Isotropic Gaussian Mixture Model (GMM)')\n",
    "# plot_gaussian_contours(mus, covs, colors=[c_contour, c_contour], x_lims=[-3,3], y_lims=[-2,2])\n",
    "plt.plot(S[:, 0], S[:, 1], 'o', alpha=0.6, color=c_true)\n",
    "plt.axis('equal')\n",
    "plt.show()\n",
    "# fig.savefig('iso_gmm_exact.png', dpi=200)"
   ]
  },
  {
   "cell_type": "code",
   "execution_count": null,
   "metadata": {},
   "outputs": [],
   "source": []
  },
  {
   "cell_type": "markdown",
   "metadata": {},
   "source": [
    "---\n",
    "## Training"
   ]
  },
  {
   "cell_type": "code",
   "execution_count": 10,
   "metadata": {},
   "outputs": [
    {
     "name": "stderr",
     "output_type": "stream",
     "text": [
      "/home/nkotelevskii/github/corrected_l2hmc/l2hmc_pytorch/l2hmc/utils/dynamics_pt.py:57: UserWarning: To copy construct from a tensor, it is recommended to use sourceTensor.clone().detach() or sourceTensor.clone().detach().requires_grad_(True), rather than torch.tensor(sourceTensor).\n",
      "  self.Temp = torch.tensor(self.temperature, dtype=torchType, device=device)\n"
     ]
    }
   ],
   "source": [
    "dynamics = Dynamics(x_dim, dist.get_energy_function(), T=10, eps=0.1, net_factory=network, use_temperature=True, device=device).to(device)"
   ]
  },
  {
   "cell_type": "code",
   "execution_count": 11,
   "metadata": {},
   "outputs": [],
   "source": [
    "n_steps = 150 #5000\n",
    "n_samples = 200\n",
    "use_barker = True"
   ]
  },
  {
   "cell_type": "code",
   "execution_count": 12,
   "metadata": {},
   "outputs": [
    {
     "name": "stderr",
     "output_type": "stream",
     "text": [
      "  0%|          | 0/150 [00:00<?, ?it/s]"
     ]
    },
    {
     "data": {
      "image/png": "[encoded data removed]",
      "text/plain": [
       "<Figure size 432x288 with 1 Axes>"
      ]
     },
     "metadata": {
      "needs_background": "light"
     },
     "output_type": "display_data"
    },
    {
     "name": "stderr",
     "output_type": "stream",
     "text": [
      "  1%|          | 1/150 [00:00<01:12,  2.06it/s]"
     ]
    },
    {
     "name": "stdout",
     "output_type": "stream",
     "text": [
      "Step: 0 / 150, Loss: 8.10e+02, Acceptance sample: 0.12, LR: 0.00100\n"
     ]
    },
    {
     "name": "stderr",
     "output_type": "stream",
     "text": [
      " 33%|███▎      | 50/150 [00:19<00:39,  2.56it/s]"
     ]
    },
    {
     "data": {
      "image/png": "[encoded data removed]",
      "text/plain": [
       "<Figure size 432x288 with 1 Axes>"
      ]
     },
     "metadata": {
      "needs_background": "light"
     },
     "output_type": "display_data"
    },
    {
     "name": "stderr",
     "output_type": "stream",
     "text": [
      " 67%|██████▋   | 100/150 [00:38<00:19,  2.59it/s]"
     ]
    },
    {
     "data": {
      "image/png": "[encoded data removed]",
      "text/plain": [
       "<Figure size 432x288 with 1 Axes>"
      ]
     },
     "metadata": {
      "needs_background": "light"
     },
     "output_type": "display_data"
    },
    {
     "name": "stderr",
     "output_type": "stream",
     "text": [
      " 67%|██████▋   | 101/150 [00:39<00:20,  2.39it/s]"
     ]
    },
    {
     "name": "stdout",
     "output_type": "stream",
     "text": [
      "Step: 100 / 150, Loss: 3.13e+00, Acceptance sample: 0.38, LR: 0.00100\n"
     ]
    },
    {
     "name": "stderr",
     "output_type": "stream",
     "text": [
      "100%|██████████| 150/150 [00:58<00:00,  2.57it/s]\n"
     ]
    }
   ],
   "source": [
    "optim = Adam(dynamics.parameters())\n",
    "scheduler = StepLR(optim, step_size=1000, gamma=0.96)\n",
    "scale = torch.tensor(0.1, device=device)\n",
    "\n",
    "def criterion(v1, v2):\n",
    "    return scale * (torch.mean(1.0 / v1) + torch.mean(1.0 / v2)) + (-torch.mean(v1) - torch.mean(v2)) / scale\n",
    "\n",
    "# with torch.autograd.detect_anomaly():\n",
    "for t in tqdm(range(n_steps)):\n",
    "    tmp = 9.0 * (1 - t / float(n_steps)) + 1\n",
    "    if(t==0):\n",
    "        x = torch.randn(n_samples, x_dim, dtype=torch.float32, device=device)\n",
    "    else:\n",
    "        x = output[0].data #.to(device)\n",
    "\n",
    "    z = torch.randn_like(x, device=device)\n",
    "\n",
    "    optim.zero_grad()\n",
    "    Lx, _, log_px, output, _, _ = propose(x, dynamics, do_mh_step=True, device=device, use_barker=use_barker)\n",
    "    Lz, _, log_pz, _, _, _ = propose(z, dynamics, do_mh_step=False, device=device, use_barker=use_barker)\n",
    "    \n",
    "    if use_barker:\n",
    "        px = log_px[0].exp()\n",
    "        pz = log_pz[0].exp()\n",
    "    else:\n",
    "        px = log_px.exp()\n",
    "        pz = log_pz.exp()\n",
    "\n",
    "    v1 = (torch.sum((x - Lx)**2, dim=1) * px) + torch.tensor(1e-4, device=device)\n",
    "    v2 = (torch.sum((z - Lz)**2, dim=1) * pz) + torch.tensor(1e-4, device=device)\n",
    "    \n",
    "    \n",
    "    if t % 50 == 0:\n",
    "        plt.scatter(S[:, 0], S[:, 1], label='Target')\n",
    "        plt.scatter(Lx.cpu().detach()[:, 0], Lx.cpu().detach()[:, 1], label='wo A/R')\n",
    "        plt.scatter(output[0].cpu().detach()[:, 0], output[0].cpu().detach()[:, 1], label='A/R')\n",
    "        plt.legend()\n",
    "        plt.show();\n",
    "\n",
    "    loss = criterion(v1, v2)\n",
    "    \n",
    "#     with torch.autograd.detect_anomaly():\n",
    "#     set_trace()\n",
    "    loss.backward()\n",
    "    optim.step()\n",
    "    \n",
    "    if t % 100 == 0:\n",
    "        current_lr = None\n",
    "        for param_group in optim.param_groups:\n",
    "            current_lr = param_group['lr']\n",
    "        print ('Step: %d / %d, Loss: %.2e, Acceptance sample: %.2f, LR: %.5f' % (t, n_steps, loss.item(), np.mean(px.cpu().detach().numpy()), current_lr))\n",
    "    scheduler.step()\n",
    "    optim.zero_grad()"
   ]
  },
  {
   "cell_type": "code",
   "execution_count": null,
   "metadata": {},
   "outputs": [],
   "source": []
  },
  {
   "cell_type": "code",
   "execution_count": 13,
   "metadata": {},
   "outputs": [],
   "source": [
    "length_of_chains = 800 #2000"
   ]
  },
  {
   "cell_type": "code",
   "execution_count": 14,
   "metadata": {},
   "outputs": [
    {
     "name": "stderr",
     "output_type": "stream",
     "text": [
      "100%|██████████| 800/800 [01:19<00:00, 10.07it/s]\n"
     ]
    }
   ],
   "source": [
    "samples = torch.tensor(dist.get_samples(n=n_samples), dtype=torch.float32, device=device)\n",
    "final_samples = []\n",
    "\n",
    "samples_ = samples\n",
    "with torch.no_grad():\n",
    "    for t in tqdm(range(length_of_chains)):\n",
    "        final_samples.append(samples_.cpu().numpy())\n",
    "        _, _, _, samples_, _, _ = propose(samples_, dynamics, do_mh_step=True, device=device)\n",
    "        samples_ = samples_[0].detach()"
   ]
  },
  {
   "cell_type": "code",
   "execution_count": 15,
   "metadata": {},
   "outputs": [
    {
     "name": "stderr",
     "output_type": "stream",
     "text": [
      "100%|██████████| 800/800 [00:30<00:00, 26.55it/s]\n",
      "100%|██████████| 800/800 [00:29<00:00, 26.85it/s]\n",
      "100%|██████████| 800/800 [00:30<00:00, 26.57it/s]\n"
     ]
    }
   ],
   "source": [
    "L2HMC_samples = np.array(final_samples)\n",
    "with torch.no_grad():\n",
    "    HMC_samples_1 = get_hmc_samples(2, 0.1, dist.get_energy_function(), steps=length_of_chains, samples=samples, device=device)\n",
    "    HMC_samples_2 = get_hmc_samples(2, 0.15, dist.get_energy_function(), steps=length_of_chains, samples=samples, device=device)\n",
    "    HMC_samples_3 = get_hmc_samples(2, 0.2, dist.get_energy_function(), steps=length_of_chains, samples=samples, device=device)"
   ]
  },
  {
   "cell_type": "code",
   "execution_count": 16,
   "metadata": {},
   "outputs": [
    {
     "data": {
      "text/plain": [
       "(800, 200, 2)"
      ]
     },
     "execution_count": 16,
     "metadata": {},
     "output_type": "execute_result"
    }
   ],
   "source": [
    "L2HMC_samples.shape"
   ]
  },
  {
   "cell_type": "code",
   "execution_count": 17,
   "metadata": {},
   "outputs": [
    {
     "data": {
      "text/plain": [
       "(800, 200, 2)"
      ]
     },
     "execution_count": 17,
     "metadata": {},
     "output_type": "execute_result"
    }
   ],
   "source": [
    "HMC_samples_1.shape"
   ]
  },
  {
   "cell_type": "code",
   "execution_count": null,
   "metadata": {},
   "outputs": [],
   "source": [
    "cov_= np.array([[4.1, 0], [0, 0.1]])\n",
    "scale = np.sqrt(np.trace(cov_))\n",
    "L2HMC = acl_spectrum(L2HMC_samples, scale=scale)\n",
    "HMC1 = acl_spectrum(HMC_samples_1, scale=scale)\n",
    "HMC2 = acl_spectrum(HMC_samples_2, scale=scale)\n",
    "HMC3 = acl_spectrum(HMC_samples_3, scale=scale)"
   ]
  },
  {
   "cell_type": "code",
   "execution_count": null,
   "metadata": {},
   "outputs": [],
   "source": [
    "xaxis = 10 * np.arange(50)\n",
    "fig = plt.figure()\n",
    "plt.plot(xaxis, L2HMC[:50], label='L2HMC', color=c_l2hmc)\n",
    "plt.plot(xaxis, HMC1[:50], label='HMC $\\epsilon=0.25$', color=c_hmc2)\n",
    "plt.plot(xaxis, HMC2[:50], label='HMC $\\epsilon=0.50$', color=c_hmc3)\n",
    "plt.plot(xaxis, HMC3[:50], label='HMC $\\epsilon=1.0$', color=c_hmc3)\n",
    "plt.ylabel('Auto-correlation')\n",
    "plt.xlabel('Gradient computations')\n",
    "plt.title('Gaussian Mixture Model')\n",
    "plt.legend()\n",
    "plt.tight_layout()\n",
    "plt.show()\n",
    "# fig.savefig('iso_gmm_plot.png', dpi=200)"
   ]
  },
  {
   "cell_type": "code",
   "execution_count": null,
   "metadata": {},
   "outputs": [],
   "source": [
    "# print('ESS L2HMC: %.2e -- ESS HMC: %.2e -- Ratio: %.3f' % (ESS(L2HMC), ESS(HMC2), ESS(L2HMC) / ESS(HMC2)))"
   ]
  },
  {
   "cell_type": "markdown",
   "metadata": {},
   "source": [
    "### L2HMC samples overlayed on ground truth samples"
   ]
  },
  {
   "cell_type": "code",
   "execution_count": null,
   "metadata": {},
   "outputs": [],
   "source": [
    "# plt.plot(S[:, 0], S[:, 1], 'o', alpha=0.6, color=main)\n",
    "fig = plt.figure(figsize=(8, 6))\n",
    "\n",
    "points_to_plot = np.min([150, length_of_chains - 1])\n",
    "\n",
    "ax1 = plt.subplot(2,1,1)\n",
    "plot_gaussian_contours(mus.cpu().detach().numpy(),\n",
    "                       covs.cpu().detach().numpy(), colors=[c_contour, c_contour], x_lims=[-2.8,2.8], y_lims=[-1,1], res=200)\n",
    "plt.plot(L2HMC_samples[:points_to_plot, 1, 0], L2HMC_samples[:points_to_plot, 1, 1], color=c_l2hmc, marker='o', alpha=0.6)\n",
    "plt.title('Gaussian Mixture Model Sampling via L2HMC')\n",
    "plt.axis('equal')\n",
    "\n",
    "ax2 = plt.subplot(2,1,2, sharex=ax1)\n",
    "plot_gaussian_contours(mus.cpu().detach().numpy(),\n",
    "                       covs.cpu().detach().numpy(), colors=[c_contour, c_contour], x_lims=[-2.8,2.8], y_lims=[-1,1], res=200)\n",
    "plt.plot(HMC_samples_1[:points_to_plot, 1, 0], HMC_samples_1[:points_to_plot, 1, 1], color=c_hmc2, marker='o', alpha=0.6)\n",
    "plt.title('Gaussian Mixture Model Sampling via HMC ($\\epsilon = 0.1$)')\n",
    "plt.axis('equal')\n",
    "plt.tight_layout()\n",
    "\n",
    "plt.axis([-3,3,-2,2])\n",
    "\n",
    "plt.show()\n",
    "# fig.savefig('iso_gmm_explore.png', dpi=200)"
   ]
  },
  {
   "cell_type": "markdown",
   "metadata": {},
   "source": [
    "### HMC samples (Leapfrog step: ε = 0.15)"
   ]
  },
  {
   "cell_type": "code",
   "execution_count": null,
   "metadata": {},
   "outputs": [],
   "source": [
    "fig = plt.figure(figsize=(6, 3))\n",
    "plot_gaussian_contours(mus.cpu().detach().numpy(),\n",
    "                       covs.cpu().detach().numpy(), colors=[c_contour, c_contour], x_lims=[-2.8,2.8], y_lims=[-1,1], res=100)\n",
    "plt.plot(HMC_samples_2[:points_to_plot, 1, 0], HMC_samples_2[:points_to_plot, 1, 1], color=c_hmc1, marker='o', alpha=0.6)\n",
    "plt.xlim([-5,5])\n",
    "plt.title('Gaussian Mixture Model Sampling via HMC ($\\epsilon = 0.15$)')\n",
    "plt.axis('equal')\n",
    "plt.show()"
   ]
  },
  {
   "cell_type": "markdown",
   "metadata": {},
   "source": [
    "### HMC samples (Leapfrog step: ε = 0.2)"
   ]
  },
  {
   "cell_type": "code",
   "execution_count": null,
   "metadata": {},
   "outputs": [],
   "source": [
    "fig = plt.figure(figsize=(6, 3))\n",
    "plot_gaussian_contours(mus.cpu().detach().numpy(),\n",
    "                       covs.cpu().detach().numpy(), colors=[c_contour, c_contour], x_lims=[-2.8,2.8], y_lims=[-1,1])\n",
    "plt.plot(HMC_samples_3[:points_to_plot, 1, 0], HMC_samples_3[:points_to_plot, 1, 1], color=c_hmc2, marker='o', alpha=0.6)\n",
    "plt.title('Gaussian Mixture Model Sampling via HMC ($\\epsilon = 0.2$)')\n",
    "plt.axis('equal')\n",
    "plt.show()"
   ]
  },
  {
   "cell_type": "code",
   "execution_count": null,
   "metadata": {},
   "outputs": [],
   "source": []
  }
 ],
 "metadata": {
  "kernelspec": {
   "display_name": "Condatorch",
   "language": "python",
   "name": "condatorch"
  },
  "language_info": {
   "codemirror_mode": {
    "name": "ipython",
    "version": 3
   },
   "file_extension": ".py",
   "mimetype": "text/x-python",
   "name": "python",
   "nbconvert_exporter": "python",
   "pygments_lexer": "ipython3",
   "version": "3.7.6"
  }
 },
 "nbformat": 4,
 "nbformat_minor": 4
}
